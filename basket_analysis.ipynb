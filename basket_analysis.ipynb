{
  "cells": [
    {
      "cell_type": "code",
      "execution_count": 64,
      "metadata": {
        "colab": {
          "base_uri": "https://localhost:8080/"
        },
        "id": "-9Iixs1AXAzg",
        "outputId": "0c6c438b-1ec7-4933-bf57-f16909cd403e"
      },
      "outputs": [
        {
          "output_type": "stream",
          "name": "stdout",
          "text": [
            "Looking in indexes: https://pypi.org/simple, https://us-python.pkg.dev/colab-wheels/public/simple/\n",
            "Requirement already satisfied: apyori in /usr/local/lib/python3.7/dist-packages (1.1.2)\n"
          ]
        }
      ],
      "source": [
        "!pip install apyori"
      ]
    },
    {
      "cell_type": "code",
      "execution_count": 65,
      "metadata": {
        "colab": {
          "base_uri": "https://localhost:8080/"
        },
        "id": "0mLkl3l6XKpb",
        "outputId": "cf26b892-9210-404e-bca0-0cfeaebed2d5"
      },
      "outputs": [
        {
          "output_type": "stream",
          "name": "stdout",
          "text": [
            "Looking in indexes: https://pypi.org/simple, https://us-python.pkg.dev/colab-wheels/public/simple/\n",
            "Requirement already satisfied: pyECLAT in /usr/local/lib/python3.7/dist-packages (1.0.2)\n",
            "Requirement already satisfied: pandas>=0.25.3 in /usr/local/lib/python3.7/dist-packages (from pyECLAT) (1.3.5)\n",
            "Requirement already satisfied: numpy>=1.17.4 in /usr/local/lib/python3.7/dist-packages (from pyECLAT) (1.21.6)\n",
            "Requirement already satisfied: tqdm>=4.41.1 in /usr/local/lib/python3.7/dist-packages (from pyECLAT) (4.64.0)\n",
            "Requirement already satisfied: pytz>=2017.3 in /usr/local/lib/python3.7/dist-packages (from pandas>=0.25.3->pyECLAT) (2022.1)\n",
            "Requirement already satisfied: python-dateutil>=2.7.3 in /usr/local/lib/python3.7/dist-packages (from pandas>=0.25.3->pyECLAT) (2.8.2)\n",
            "Requirement already satisfied: six>=1.5 in /usr/local/lib/python3.7/dist-packages (from python-dateutil>=2.7.3->pandas>=0.25.3->pyECLAT) (1.15.0)\n"
          ]
        }
      ],
      "source": [
        "!pip install pyECLAT"
      ]
    },
    {
      "cell_type": "code",
      "execution_count": 66,
      "metadata": {
        "colab": {
          "base_uri": "https://localhost:8080/"
        },
        "id": "QFWsOjswjf-4",
        "outputId": "9ea653e2-2e68-46e8-8de8-d24e8826f961"
      },
      "outputs": [
        {
          "output_type": "stream",
          "name": "stdout",
          "text": [
            "Looking in indexes: https://pypi.org/simple, https://us-python.pkg.dev/colab-wheels/public/simple/\n",
            "Requirement already satisfied: pyfpgrowth in /usr/local/lib/python3.7/dist-packages (1.0)\n"
          ]
        }
      ],
      "source": [
        "!pip install pyfpgrowth"
      ]
    },
    {
      "cell_type": "code",
      "execution_count": 67,
      "metadata": {
        "id": "0vaQrI-4XVm7"
      },
      "outputs": [],
      "source": [
        "# Import headers\n",
        "import numpy as np \n",
        "import matplotlib.pyplot as plt\n",
        "import pandas as pd"
      ]
    },
    {
      "cell_type": "code",
      "execution_count": 68,
      "metadata": {
        "colab": {
          "base_uri": "https://localhost:8080/"
        },
        "id": "1zmOfo06XYvv",
        "outputId": "e61f8e8a-d2d8-413e-e17e-e113182ef003"
      },
      "outputs": [
        {
          "output_type": "execute_result",
          "data": {
            "text/plain": [
              "998"
            ]
          },
          "metadata": {},
          "execution_count": 68
        }
      ],
      "source": [
        "#Data preprocessing\n",
        "dataset = pd.read_csv('/content/basket_analysis.csv', header = 0)\n",
        "Data=dataset\n",
        "rows = len(Data.axes[0])\n",
        "cols = len(Data.axes[1])\n",
        "Data.columns = range(Data.shape[1])\n",
        "rows"
      ]
    },
    {
      "cell_type": "code",
      "execution_count": 69,
      "metadata": {
        "id": "9-9cH2ltXyw1"
      },
      "outputs": [],
      "source": [
        "# Intializing the list\n",
        "transacts = []\n",
        "# populating a list of transactions\n",
        "for i in range(0, rows): \n",
        "  transacts.append([str(Data.values[i,j]) for j in range(0, cols)])"
      ]
    },
    {
      "cell_type": "code",
      "execution_count": 70,
      "metadata": {
        "colab": {
          "base_uri": "https://localhost:8080/"
        },
        "id": "pJj4VDM-YB3_",
        "outputId": "46b80c90-4e57-4193-a25c-0f8436aad164"
      },
      "outputs": [
        {
          "output_type": "execute_result",
          "data": {
            "text/plain": [
              "[RelationRecord(items=frozenset({'Apple'}), support=0.3837675350701403, ordered_statistics=[OrderedStatistic(items_base=frozenset(), items_add=frozenset({'Apple'}), confidence=0.3837675350701403, lift=1.0)]),\n",
              " RelationRecord(items=frozenset({'Bread'}), support=0.3837675350701403, ordered_statistics=[OrderedStatistic(items_base=frozenset(), items_add=frozenset({'Bread'}), confidence=0.3837675350701403, lift=1.0)]),\n",
              " RelationRecord(items=frozenset({'Butter'}), support=0.42084168336673344, ordered_statistics=[OrderedStatistic(items_base=frozenset(), items_add=frozenset({'Butter'}), confidence=0.42084168336673344, lift=1.0)]),\n",
              " RelationRecord(items=frozenset({'Cheese'}), support=0.40480961923847697, ordered_statistics=[OrderedStatistic(items_base=frozenset(), items_add=frozenset({'Cheese'}), confidence=0.40480961923847697, lift=1.0)]),\n",
              " RelationRecord(items=frozenset({'Chocolate'}), support=0.42084168336673344, ordered_statistics=[OrderedStatistic(items_base=frozenset(), items_add=frozenset({'Chocolate'}), confidence=0.42084168336673344, lift=1.0)]),\n",
              " RelationRecord(items=frozenset({'Corn'}), support=0.40681362725450904, ordered_statistics=[OrderedStatistic(items_base=frozenset(), items_add=frozenset({'Corn'}), confidence=0.40681362725450904, lift=1.0)]),\n",
              " RelationRecord(items=frozenset({'Dill'}), support=0.39779559118236474, ordered_statistics=[OrderedStatistic(items_base=frozenset(), items_add=frozenset({'Dill'}), confidence=0.39779559118236474, lift=1.0)]),\n",
              " RelationRecord(items=frozenset({'Eggs'}), support=0.3847695390781563, ordered_statistics=[OrderedStatistic(items_base=frozenset(), items_add=frozenset({'Eggs'}), confidence=0.3847695390781563, lift=1.0)]),\n",
              " RelationRecord(items=frozenset({'Ice cream'}), support=0.40981963927855714, ordered_statistics=[OrderedStatistic(items_base=frozenset(), items_add=frozenset({'Ice cream'}), confidence=0.40981963927855714, lift=1.0)]),\n",
              " RelationRecord(items=frozenset({'Kidney Beans'}), support=0.4088176352705411, ordered_statistics=[OrderedStatistic(items_base=frozenset(), items_add=frozenset({'Kidney Beans'}), confidence=0.4088176352705411, lift=1.0)]),\n",
              " RelationRecord(items=frozenset({'Milk'}), support=0.405811623246493, ordered_statistics=[OrderedStatistic(items_base=frozenset(), items_add=frozenset({'Milk'}), confidence=0.405811623246493, lift=1.0)]),\n",
              " RelationRecord(items=frozenset({'Nutmeg'}), support=0.40180360721442887, ordered_statistics=[OrderedStatistic(items_base=frozenset(), items_add=frozenset({'Nutmeg'}), confidence=0.40180360721442887, lift=1.0)]),\n",
              " RelationRecord(items=frozenset({'Onion'}), support=0.40380761523046094, ordered_statistics=[OrderedStatistic(items_base=frozenset(), items_add=frozenset({'Onion'}), confidence=0.40380761523046094, lift=1.0)]),\n",
              " RelationRecord(items=frozenset({'Sugar'}), support=0.4088176352705411, ordered_statistics=[OrderedStatistic(items_base=frozenset(), items_add=frozenset({'Sugar'}), confidence=0.4088176352705411, lift=1.0)]),\n",
              " RelationRecord(items=frozenset({'Unicorn'}), support=0.3897795591182365, ordered_statistics=[OrderedStatistic(items_base=frozenset(), items_add=frozenset({'Unicorn'}), confidence=0.3897795591182365, lift=1.0)]),\n",
              " RelationRecord(items=frozenset({'Yogurt'}), support=0.4198396793587174, ordered_statistics=[OrderedStatistic(items_base=frozenset(), items_add=frozenset({'Yogurt'}), confidence=0.4198396793587174, lift=1.0)]),\n",
              " RelationRecord(items=frozenset({'nan'}), support=1.0, ordered_statistics=[OrderedStatistic(items_base=frozenset(), items_add=frozenset({'nan'}), confidence=1.0, lift=1.0)]),\n",
              " RelationRecord(items=frozenset({'Apple', 'nan'}), support=0.3837675350701403, ordered_statistics=[OrderedStatistic(items_base=frozenset(), items_add=frozenset({'Apple', 'nan'}), confidence=0.3837675350701403, lift=1.0), OrderedStatistic(items_base=frozenset({'Apple'}), items_add=frozenset({'nan'}), confidence=1.0, lift=1.0), OrderedStatistic(items_base=frozenset({'nan'}), items_add=frozenset({'Apple'}), confidence=0.3837675350701403, lift=1.0)]),\n",
              " RelationRecord(items=frozenset({'Bread', 'nan'}), support=0.3837675350701403, ordered_statistics=[OrderedStatistic(items_base=frozenset(), items_add=frozenset({'Bread', 'nan'}), confidence=0.3837675350701403, lift=1.0), OrderedStatistic(items_base=frozenset({'Bread'}), items_add=frozenset({'nan'}), confidence=1.0, lift=1.0), OrderedStatistic(items_base=frozenset({'nan'}), items_add=frozenset({'Bread'}), confidence=0.3837675350701403, lift=1.0)]),\n",
              " RelationRecord(items=frozenset({'Butter', 'Chocolate'}), support=0.20240480961923848, ordered_statistics=[OrderedStatistic(items_base=frozenset(), items_add=frozenset({'Butter', 'Chocolate'}), confidence=0.20240480961923848, lift=1.0), OrderedStatistic(items_base=frozenset({'Butter'}), items_add=frozenset({'Chocolate'}), confidence=0.480952380952381, lift=1.1428344671201816), OrderedStatistic(items_base=frozenset({'Chocolate'}), items_add=frozenset({'Butter'}), confidence=0.480952380952381, lift=1.1428344671201816)]),\n",
              " RelationRecord(items=frozenset({'Butter', 'Ice cream'}), support=0.20741482965931865, ordered_statistics=[OrderedStatistic(items_base=frozenset(), items_add=frozenset({'Butter', 'Ice cream'}), confidence=0.20741482965931865, lift=1.0), OrderedStatistic(items_base=frozenset({'Butter'}), items_add=frozenset({'Ice cream'}), confidence=0.49285714285714294, lift=1.2026196297589942), OrderedStatistic(items_base=frozenset({'Ice cream'}), items_add=frozenset({'Butter'}), confidence=0.5061124694376529, lift=1.2026196297589942)]),\n",
              " RelationRecord(items=frozenset({'Butter', 'Kidney Beans'}), support=0.20240480961923848, ordered_statistics=[OrderedStatistic(items_base=frozenset(), items_add=frozenset({'Butter', 'Kidney Beans'}), confidence=0.20240480961923848, lift=1.0), OrderedStatistic(items_base=frozenset({'Butter'}), items_add=frozenset({'Kidney Beans'}), confidence=0.480952380952381, lift=1.1764472455648927), OrderedStatistic(items_base=frozenset({'Kidney Beans'}), items_add=frozenset({'Butter'}), confidence=0.4950980392156863, lift=1.1764472455648927)]),\n",
              " RelationRecord(items=frozenset({'Butter', 'nan'}), support=0.42084168336673344, ordered_statistics=[OrderedStatistic(items_base=frozenset(), items_add=frozenset({'Butter', 'nan'}), confidence=0.42084168336673344, lift=1.0), OrderedStatistic(items_base=frozenset({'Butter'}), items_add=frozenset({'nan'}), confidence=1.0, lift=1.0), OrderedStatistic(items_base=frozenset({'nan'}), items_add=frozenset({'Butter'}), confidence=0.42084168336673344, lift=1.0)]),\n",
              " RelationRecord(items=frozenset({'Kidney Beans', 'Cheese'}), support=0.20040080160320642, ordered_statistics=[OrderedStatistic(items_base=frozenset(), items_add=frozenset({'Kidney Beans', 'Cheese'}), confidence=0.20040080160320642, lift=1.0), OrderedStatistic(items_base=frozenset({'Cheese'}), items_add=frozenset({'Kidney Beans'}), confidence=0.49504950495049505, lift=1.2109299165210639), OrderedStatistic(items_base=frozenset({'Kidney Beans'}), items_add=frozenset({'Cheese'}), confidence=0.49019607843137253, lift=1.2109299165210639)]),\n",
              " RelationRecord(items=frozenset({'nan', 'Cheese'}), support=0.40480961923847697, ordered_statistics=[OrderedStatistic(items_base=frozenset(), items_add=frozenset({'Cheese', 'nan'}), confidence=0.40480961923847697, lift=1.0), OrderedStatistic(items_base=frozenset({'Cheese'}), items_add=frozenset({'nan'}), confidence=1.0, lift=1.0), OrderedStatistic(items_base=frozenset({'nan'}), items_add=frozenset({'Cheese'}), confidence=0.40480961923847697, lift=1.0)]),\n",
              " RelationRecord(items=frozenset({'Ice cream', 'Chocolate'}), support=0.20140280561122245, ordered_statistics=[OrderedStatistic(items_base=frozenset(), items_add=frozenset({'Chocolate', 'Ice cream'}), confidence=0.20140280561122245, lift=1.0), OrderedStatistic(items_base=frozenset({'Chocolate'}), items_add=frozenset({'Ice cream'}), confidence=0.4785714285714286, lift=1.1677610897659798), OrderedStatistic(items_base=frozenset({'Ice cream'}), items_add=frozenset({'Chocolate'}), confidence=0.49144254278728605, lift=1.1677610897659798)]),\n",
              " RelationRecord(items=frozenset({'Milk', 'Chocolate'}), support=0.21142284569138275, ordered_statistics=[OrderedStatistic(items_base=frozenset(), items_add=frozenset({'Milk', 'Chocolate'}), confidence=0.21142284569138275, lift=1.0), OrderedStatistic(items_base=frozenset({'Chocolate'}), items_add=frozenset({'Milk'}), confidence=0.5023809523809524, lift=1.2379659024103469), OrderedStatistic(items_base=frozenset({'Milk'}), items_add=frozenset({'Chocolate'}), confidence=0.5209876543209876, lift=1.2379659024103469)]),\n",
              " RelationRecord(items=frozenset({'nan', 'Chocolate'}), support=0.42084168336673344, ordered_statistics=[OrderedStatistic(items_base=frozenset(), items_add=frozenset({'Chocolate', 'nan'}), confidence=0.42084168336673344, lift=1.0), OrderedStatistic(items_base=frozenset({'Chocolate'}), items_add=frozenset({'nan'}), confidence=1.0, lift=1.0), OrderedStatistic(items_base=frozenset({'nan'}), items_add=frozenset({'Chocolate'}), confidence=0.42084168336673344, lift=1.0)]),\n",
              " RelationRecord(items=frozenset({'nan', 'Corn'}), support=0.40681362725450904, ordered_statistics=[OrderedStatistic(items_base=frozenset(), items_add=frozenset({'Corn', 'nan'}), confidence=0.40681362725450904, lift=1.0), OrderedStatistic(items_base=frozenset({'Corn'}), items_add=frozenset({'nan'}), confidence=1.0, lift=1.0), OrderedStatistic(items_base=frozenset({'nan'}), items_add=frozenset({'Corn'}), confidence=0.40681362725450904, lift=1.0)]),\n",
              " RelationRecord(items=frozenset({'Dill', 'nan'}), support=0.39779559118236474, ordered_statistics=[OrderedStatistic(items_base=frozenset(), items_add=frozenset({'Dill', 'nan'}), confidence=0.39779559118236474, lift=1.0), OrderedStatistic(items_base=frozenset({'Dill'}), items_add=frozenset({'nan'}), confidence=1.0, lift=1.0), OrderedStatistic(items_base=frozenset({'nan'}), items_add=frozenset({'Dill'}), confidence=0.39779559118236474, lift=1.0)]),\n",
              " RelationRecord(items=frozenset({'Eggs', 'nan'}), support=0.3847695390781563, ordered_statistics=[OrderedStatistic(items_base=frozenset(), items_add=frozenset({'Eggs', 'nan'}), confidence=0.3847695390781563, lift=1.0), OrderedStatistic(items_base=frozenset({'Eggs'}), items_add=frozenset({'nan'}), confidence=1.0, lift=1.0), OrderedStatistic(items_base=frozenset({'nan'}), items_add=frozenset({'Eggs'}), confidence=0.3847695390781563, lift=1.0)]),\n",
              " RelationRecord(items=frozenset({'nan', 'Ice cream'}), support=0.40981963927855714, ordered_statistics=[OrderedStatistic(items_base=frozenset(), items_add=frozenset({'Ice cream', 'nan'}), confidence=0.40981963927855714, lift=1.0), OrderedStatistic(items_base=frozenset({'Ice cream'}), items_add=frozenset({'nan'}), confidence=1.0, lift=1.0), OrderedStatistic(items_base=frozenset({'nan'}), items_add=frozenset({'Ice cream'}), confidence=0.40981963927855714, lift=1.0)]),\n",
              " RelationRecord(items=frozenset({'Kidney Beans', 'nan'}), support=0.4088176352705411, ordered_statistics=[OrderedStatistic(items_base=frozenset(), items_add=frozenset({'Kidney Beans', 'nan'}), confidence=0.4088176352705411, lift=1.0), OrderedStatistic(items_base=frozenset({'Kidney Beans'}), items_add=frozenset({'nan'}), confidence=1.0, lift=1.0), OrderedStatistic(items_base=frozenset({'nan'}), items_add=frozenset({'Kidney Beans'}), confidence=0.4088176352705411, lift=1.0)]),\n",
              " RelationRecord(items=frozenset({'Milk', 'nan'}), support=0.405811623246493, ordered_statistics=[OrderedStatistic(items_base=frozenset(), items_add=frozenset({'Milk', 'nan'}), confidence=0.405811623246493, lift=1.0), OrderedStatistic(items_base=frozenset({'Milk'}), items_add=frozenset({'nan'}), confidence=1.0, lift=1.0), OrderedStatistic(items_base=frozenset({'nan'}), items_add=frozenset({'Milk'}), confidence=0.405811623246493, lift=1.0)]),\n",
              " RelationRecord(items=frozenset({'Nutmeg', 'nan'}), support=0.40180360721442887, ordered_statistics=[OrderedStatistic(items_base=frozenset(), items_add=frozenset({'Nutmeg', 'nan'}), confidence=0.40180360721442887, lift=1.0), OrderedStatistic(items_base=frozenset({'Nutmeg'}), items_add=frozenset({'nan'}), confidence=1.0, lift=1.0), OrderedStatistic(items_base=frozenset({'nan'}), items_add=frozenset({'Nutmeg'}), confidence=0.40180360721442887, lift=1.0)]),\n",
              " RelationRecord(items=frozenset({'Onion', 'nan'}), support=0.40380761523046094, ordered_statistics=[OrderedStatistic(items_base=frozenset(), items_add=frozenset({'Onion', 'nan'}), confidence=0.40380761523046094, lift=1.0), OrderedStatistic(items_base=frozenset({'Onion'}), items_add=frozenset({'nan'}), confidence=1.0, lift=1.0), OrderedStatistic(items_base=frozenset({'nan'}), items_add=frozenset({'Onion'}), confidence=0.40380761523046094, lift=1.0)]),\n",
              " RelationRecord(items=frozenset({'nan', 'Sugar'}), support=0.4088176352705411, ordered_statistics=[OrderedStatistic(items_base=frozenset(), items_add=frozenset({'Sugar', 'nan'}), confidence=0.4088176352705411, lift=1.0), OrderedStatistic(items_base=frozenset({'Sugar'}), items_add=frozenset({'nan'}), confidence=1.0, lift=1.0), OrderedStatistic(items_base=frozenset({'nan'}), items_add=frozenset({'Sugar'}), confidence=0.4088176352705411, lift=1.0)]),\n",
              " RelationRecord(items=frozenset({'Unicorn', 'nan'}), support=0.3897795591182365, ordered_statistics=[OrderedStatistic(items_base=frozenset(), items_add=frozenset({'Unicorn', 'nan'}), confidence=0.3897795591182365, lift=1.0), OrderedStatistic(items_base=frozenset({'Unicorn'}), items_add=frozenset({'nan'}), confidence=1.0, lift=1.0), OrderedStatistic(items_base=frozenset({'nan'}), items_add=frozenset({'Unicorn'}), confidence=0.3897795591182365, lift=1.0)]),\n",
              " RelationRecord(items=frozenset({'Yogurt', 'nan'}), support=0.4198396793587174, ordered_statistics=[OrderedStatistic(items_base=frozenset(), items_add=frozenset({'Yogurt', 'nan'}), confidence=0.4198396793587174, lift=1.0), OrderedStatistic(items_base=frozenset({'Yogurt'}), items_add=frozenset({'nan'}), confidence=1.0, lift=1.0), OrderedStatistic(items_base=frozenset({'nan'}), items_add=frozenset({'Yogurt'}), confidence=0.4198396793587174, lift=1.0)]),\n",
              " RelationRecord(items=frozenset({'Butter', 'nan', 'Chocolate'}), support=0.20240480961923848, ordered_statistics=[OrderedStatistic(items_base=frozenset(), items_add=frozenset({'Butter', 'Chocolate', 'nan'}), confidence=0.20240480961923848, lift=1.0), OrderedStatistic(items_base=frozenset({'Butter'}), items_add=frozenset({'Chocolate', 'nan'}), confidence=0.480952380952381, lift=1.1428344671201816), OrderedStatistic(items_base=frozenset({'Chocolate'}), items_add=frozenset({'Butter', 'nan'}), confidence=0.480952380952381, lift=1.1428344671201816), OrderedStatistic(items_base=frozenset({'nan'}), items_add=frozenset({'Butter', 'Chocolate'}), confidence=0.20240480961923848, lift=1.0), OrderedStatistic(items_base=frozenset({'Butter', 'Chocolate'}), items_add=frozenset({'nan'}), confidence=1.0, lift=1.0), OrderedStatistic(items_base=frozenset({'Butter', 'nan'}), items_add=frozenset({'Chocolate'}), confidence=0.480952380952381, lift=1.1428344671201816), OrderedStatistic(items_base=frozenset({'nan', 'Chocolate'}), items_add=frozenset({'Butter'}), confidence=0.480952380952381, lift=1.1428344671201816)]),\n",
              " RelationRecord(items=frozenset({'Butter', 'nan', 'Ice cream'}), support=0.20741482965931865, ordered_statistics=[OrderedStatistic(items_base=frozenset(), items_add=frozenset({'Butter', 'Ice cream', 'nan'}), confidence=0.20741482965931865, lift=1.0), OrderedStatistic(items_base=frozenset({'Butter'}), items_add=frozenset({'Ice cream', 'nan'}), confidence=0.49285714285714294, lift=1.2026196297589942), OrderedStatistic(items_base=frozenset({'Ice cream'}), items_add=frozenset({'Butter', 'nan'}), confidence=0.5061124694376529, lift=1.2026196297589942), OrderedStatistic(items_base=frozenset({'nan'}), items_add=frozenset({'Butter', 'Ice cream'}), confidence=0.20741482965931865, lift=1.0), OrderedStatistic(items_base=frozenset({'Butter', 'Ice cream'}), items_add=frozenset({'nan'}), confidence=1.0, lift=1.0), OrderedStatistic(items_base=frozenset({'Butter', 'nan'}), items_add=frozenset({'Ice cream'}), confidence=0.49285714285714294, lift=1.2026196297589942), OrderedStatistic(items_base=frozenset({'nan', 'Ice cream'}), items_add=frozenset({'Butter'}), confidence=0.5061124694376529, lift=1.2026196297589942)]),\n",
              " RelationRecord(items=frozenset({'Butter', 'Kidney Beans', 'nan'}), support=0.20240480961923848, ordered_statistics=[OrderedStatistic(items_base=frozenset(), items_add=frozenset({'Butter', 'Kidney Beans', 'nan'}), confidence=0.20240480961923848, lift=1.0), OrderedStatistic(items_base=frozenset({'Butter'}), items_add=frozenset({'Kidney Beans', 'nan'}), confidence=0.480952380952381, lift=1.1764472455648927), OrderedStatistic(items_base=frozenset({'Kidney Beans'}), items_add=frozenset({'Butter', 'nan'}), confidence=0.4950980392156863, lift=1.1764472455648927), OrderedStatistic(items_base=frozenset({'nan'}), items_add=frozenset({'Butter', 'Kidney Beans'}), confidence=0.20240480961923848, lift=1.0), OrderedStatistic(items_base=frozenset({'Butter', 'Kidney Beans'}), items_add=frozenset({'nan'}), confidence=1.0, lift=1.0), OrderedStatistic(items_base=frozenset({'Butter', 'nan'}), items_add=frozenset({'Kidney Beans'}), confidence=0.480952380952381, lift=1.1764472455648927), OrderedStatistic(items_base=frozenset({'Kidney Beans', 'nan'}), items_add=frozenset({'Butter'}), confidence=0.4950980392156863, lift=1.1764472455648927)]),\n",
              " RelationRecord(items=frozenset({'nan', 'Kidney Beans', 'Cheese'}), support=0.20040080160320642, ordered_statistics=[OrderedStatistic(items_base=frozenset(), items_add=frozenset({'Cheese', 'Kidney Beans', 'nan'}), confidence=0.20040080160320642, lift=1.0), OrderedStatistic(items_base=frozenset({'Cheese'}), items_add=frozenset({'Kidney Beans', 'nan'}), confidence=0.49504950495049505, lift=1.2109299165210639), OrderedStatistic(items_base=frozenset({'Kidney Beans'}), items_add=frozenset({'Cheese', 'nan'}), confidence=0.49019607843137253, lift=1.2109299165210639), OrderedStatistic(items_base=frozenset({'nan'}), items_add=frozenset({'Kidney Beans', 'Cheese'}), confidence=0.20040080160320642, lift=1.0), OrderedStatistic(items_base=frozenset({'Kidney Beans', 'Cheese'}), items_add=frozenset({'nan'}), confidence=1.0, lift=1.0), OrderedStatistic(items_base=frozenset({'nan', 'Cheese'}), items_add=frozenset({'Kidney Beans'}), confidence=0.49504950495049505, lift=1.2109299165210639), OrderedStatistic(items_base=frozenset({'Kidney Beans', 'nan'}), items_add=frozenset({'Cheese'}), confidence=0.49019607843137253, lift=1.2109299165210639)]),\n",
              " RelationRecord(items=frozenset({'nan', 'Ice cream', 'Chocolate'}), support=0.20140280561122245, ordered_statistics=[OrderedStatistic(items_base=frozenset(), items_add=frozenset({'Chocolate', 'Ice cream', 'nan'}), confidence=0.20140280561122245, lift=1.0), OrderedStatistic(items_base=frozenset({'Chocolate'}), items_add=frozenset({'Ice cream', 'nan'}), confidence=0.4785714285714286, lift=1.1677610897659798), OrderedStatistic(items_base=frozenset({'Ice cream'}), items_add=frozenset({'Chocolate', 'nan'}), confidence=0.49144254278728605, lift=1.1677610897659798), OrderedStatistic(items_base=frozenset({'nan'}), items_add=frozenset({'Chocolate', 'Ice cream'}), confidence=0.20140280561122245, lift=1.0), OrderedStatistic(items_base=frozenset({'Ice cream', 'Chocolate'}), items_add=frozenset({'nan'}), confidence=1.0, lift=1.0), OrderedStatistic(items_base=frozenset({'nan', 'Chocolate'}), items_add=frozenset({'Ice cream'}), confidence=0.4785714285714286, lift=1.1677610897659798), OrderedStatistic(items_base=frozenset({'nan', 'Ice cream'}), items_add=frozenset({'Chocolate'}), confidence=0.49144254278728605, lift=1.1677610897659798)]),\n",
              " RelationRecord(items=frozenset({'Milk', 'nan', 'Chocolate'}), support=0.21142284569138275, ordered_statistics=[OrderedStatistic(items_base=frozenset(), items_add=frozenset({'Milk', 'Chocolate', 'nan'}), confidence=0.21142284569138275, lift=1.0), OrderedStatistic(items_base=frozenset({'Chocolate'}), items_add=frozenset({'Milk', 'nan'}), confidence=0.5023809523809524, lift=1.2379659024103469), OrderedStatistic(items_base=frozenset({'Milk'}), items_add=frozenset({'Chocolate', 'nan'}), confidence=0.5209876543209876, lift=1.2379659024103469), OrderedStatistic(items_base=frozenset({'nan'}), items_add=frozenset({'Milk', 'Chocolate'}), confidence=0.21142284569138275, lift=1.0), OrderedStatistic(items_base=frozenset({'Milk', 'Chocolate'}), items_add=frozenset({'nan'}), confidence=1.0, lift=1.0), OrderedStatistic(items_base=frozenset({'nan', 'Chocolate'}), items_add=frozenset({'Milk'}), confidence=0.5023809523809524, lift=1.2379659024103469), OrderedStatistic(items_base=frozenset({'Milk', 'nan'}), items_add=frozenset({'Chocolate'}), confidence=0.5209876543209876, lift=1.2379659024103469)])]"
            ]
          },
          "metadata": {},
          "execution_count": 70
        }
      ],
      "source": [
        "#Apriori algorithm\n",
        "from apyori import apriori\n",
        "ap = apriori(transactions = transacts, min_support = 0.2, use_colnames=True) # generate rules\n",
        "# list of results coming from the apriori model\n",
        "rslt = list(ap)\n",
        "\n",
        "rslt"
      ]
    },
    {
      "cell_type": "code",
      "execution_count": 97,
      "metadata": {
        "colab": {
          "base_uri": "https://localhost:8080/"
        },
        "id": "FGAZi50QYJY8",
        "outputId": "dcd8a1ce-6a2a-49e4-8ba8-c695a9d9fba3"
      },
      "outputs": [
        {
          "output_type": "stream",
          "name": "stdout",
          "text": [
            "100 loops, best of 10: 46.5 ns per loop\n"
          ]
        }
      ],
      "source": [
        "%timeit -n 100 -r 10 ap"
      ]
    },
    {
      "cell_type": "code",
      "execution_count": 72,
      "metadata": {
        "colab": {
          "base_uri": "https://localhost:8080/",
          "height": 505
        },
        "id": "ADVrScrrcAQf",
        "outputId": "332fa0d6-6ba7-4517-a8dd-8cb1d77b4933"
      },
      "outputs": [
        {
          "output_type": "execute_result",
          "data": {
            "text/plain": [
              "     Unicorn  Onion  Apple  Cheese  Bread  Chocolate  Eggs  Yogurt  Sugar  \\\n",
              "0          0      0      0       0      0          0     0       0      0   \n",
              "1          0      0      1       0      0          1     0       1      0   \n",
              "2          0      1      0       1      0          0     0       0      0   \n",
              "3          0      0      1       0      1          0     0       0      0   \n",
              "4          1      0      1       1      1          1     0       1      0   \n",
              "..       ...    ...    ...     ...    ...        ...   ...     ...    ...   \n",
              "993        1      0      0       0      1          1     1       0      0   \n",
              "994        0      0      1       0      0          0     0       1      0   \n",
              "995        0      0      1       0      0          1     0       0      1   \n",
              "996        0      0      0       1      0          1     1       1      1   \n",
              "997        0      0      0       0      0          1     0       0      0   \n",
              "\n",
              "     Milk  Dill  Ice cream  Butter  Nutmeg  Kidney Beans  Corn  \n",
              "0       1     0          0       0       0             0     0  \n",
              "1       1     1          1       1       0             0     0  \n",
              "2       1     1          0       1       1             0     0  \n",
              "3       0     0          0       0       0             0     0  \n",
              "4       0     1          1       1       1             0     0  \n",
              "..    ...   ...        ...     ...     ...           ...   ...  \n",
              "993     0     0          0       0       0             0     0  \n",
              "994     1     0          0       0       1             1     1  \n",
              "995     0     1          0       0       0             0     1  \n",
              "996     0     0          1       1       1             1     1  \n",
              "997     1     0          0       0       0             0     0  \n",
              "\n",
              "[998 rows x 16 columns]"
            ],
            "text/html": [
              "\n",
              "  <div id=\"df-65efeac9-fadc-4777-8d4f-d924ad144886\">\n",
              "    <div class=\"colab-df-container\">\n",
              "      <div>\n",
              "<style scoped>\n",
              "    .dataframe tbody tr th:only-of-type {\n",
              "        vertical-align: middle;\n",
              "    }\n",
              "\n",
              "    .dataframe tbody tr th {\n",
              "        vertical-align: top;\n",
              "    }\n",
              "\n",
              "    .dataframe thead th {\n",
              "        text-align: right;\n",
              "    }\n",
              "</style>\n",
              "<table border=\"1\" class=\"dataframe\">\n",
              "  <thead>\n",
              "    <tr style=\"text-align: right;\">\n",
              "      <th></th>\n",
              "      <th>Unicorn</th>\n",
              "      <th>Onion</th>\n",
              "      <th>Apple</th>\n",
              "      <th>Cheese</th>\n",
              "      <th>Bread</th>\n",
              "      <th>Chocolate</th>\n",
              "      <th>Eggs</th>\n",
              "      <th>Yogurt</th>\n",
              "      <th>Sugar</th>\n",
              "      <th>Milk</th>\n",
              "      <th>Dill</th>\n",
              "      <th>Ice cream</th>\n",
              "      <th>Butter</th>\n",
              "      <th>Nutmeg</th>\n",
              "      <th>Kidney Beans</th>\n",
              "      <th>Corn</th>\n",
              "    </tr>\n",
              "  </thead>\n",
              "  <tbody>\n",
              "    <tr>\n",
              "      <th>0</th>\n",
              "      <td>0</td>\n",
              "      <td>0</td>\n",
              "      <td>0</td>\n",
              "      <td>0</td>\n",
              "      <td>0</td>\n",
              "      <td>0</td>\n",
              "      <td>0</td>\n",
              "      <td>0</td>\n",
              "      <td>0</td>\n",
              "      <td>1</td>\n",
              "      <td>0</td>\n",
              "      <td>0</td>\n",
              "      <td>0</td>\n",
              "      <td>0</td>\n",
              "      <td>0</td>\n",
              "      <td>0</td>\n",
              "    </tr>\n",
              "    <tr>\n",
              "      <th>1</th>\n",
              "      <td>0</td>\n",
              "      <td>0</td>\n",
              "      <td>1</td>\n",
              "      <td>0</td>\n",
              "      <td>0</td>\n",
              "      <td>1</td>\n",
              "      <td>0</td>\n",
              "      <td>1</td>\n",
              "      <td>0</td>\n",
              "      <td>1</td>\n",
              "      <td>1</td>\n",
              "      <td>1</td>\n",
              "      <td>1</td>\n",
              "      <td>0</td>\n",
              "      <td>0</td>\n",
              "      <td>0</td>\n",
              "    </tr>\n",
              "    <tr>\n",
              "      <th>2</th>\n",
              "      <td>0</td>\n",
              "      <td>1</td>\n",
              "      <td>0</td>\n",
              "      <td>1</td>\n",
              "      <td>0</td>\n",
              "      <td>0</td>\n",
              "      <td>0</td>\n",
              "      <td>0</td>\n",
              "      <td>0</td>\n",
              "      <td>1</td>\n",
              "      <td>1</td>\n",
              "      <td>0</td>\n",
              "      <td>1</td>\n",
              "      <td>1</td>\n",
              "      <td>0</td>\n",
              "      <td>0</td>\n",
              "    </tr>\n",
              "    <tr>\n",
              "      <th>3</th>\n",
              "      <td>0</td>\n",
              "      <td>0</td>\n",
              "      <td>1</td>\n",
              "      <td>0</td>\n",
              "      <td>1</td>\n",
              "      <td>0</td>\n",
              "      <td>0</td>\n",
              "      <td>0</td>\n",
              "      <td>0</td>\n",
              "      <td>0</td>\n",
              "      <td>0</td>\n",
              "      <td>0</td>\n",
              "      <td>0</td>\n",
              "      <td>0</td>\n",
              "      <td>0</td>\n",
              "      <td>0</td>\n",
              "    </tr>\n",
              "    <tr>\n",
              "      <th>4</th>\n",
              "      <td>1</td>\n",
              "      <td>0</td>\n",
              "      <td>1</td>\n",
              "      <td>1</td>\n",
              "      <td>1</td>\n",
              "      <td>1</td>\n",
              "      <td>0</td>\n",
              "      <td>1</td>\n",
              "      <td>0</td>\n",
              "      <td>0</td>\n",
              "      <td>1</td>\n",
              "      <td>1</td>\n",
              "      <td>1</td>\n",
              "      <td>1</td>\n",
              "      <td>0</td>\n",
              "      <td>0</td>\n",
              "    </tr>\n",
              "    <tr>\n",
              "      <th>...</th>\n",
              "      <td>...</td>\n",
              "      <td>...</td>\n",
              "      <td>...</td>\n",
              "      <td>...</td>\n",
              "      <td>...</td>\n",
              "      <td>...</td>\n",
              "      <td>...</td>\n",
              "      <td>...</td>\n",
              "      <td>...</td>\n",
              "      <td>...</td>\n",
              "      <td>...</td>\n",
              "      <td>...</td>\n",
              "      <td>...</td>\n",
              "      <td>...</td>\n",
              "      <td>...</td>\n",
              "      <td>...</td>\n",
              "    </tr>\n",
              "    <tr>\n",
              "      <th>993</th>\n",
              "      <td>1</td>\n",
              "      <td>0</td>\n",
              "      <td>0</td>\n",
              "      <td>0</td>\n",
              "      <td>1</td>\n",
              "      <td>1</td>\n",
              "      <td>1</td>\n",
              "      <td>0</td>\n",
              "      <td>0</td>\n",
              "      <td>0</td>\n",
              "      <td>0</td>\n",
              "      <td>0</td>\n",
              "      <td>0</td>\n",
              "      <td>0</td>\n",
              "      <td>0</td>\n",
              "      <td>0</td>\n",
              "    </tr>\n",
              "    <tr>\n",
              "      <th>994</th>\n",
              "      <td>0</td>\n",
              "      <td>0</td>\n",
              "      <td>1</td>\n",
              "      <td>0</td>\n",
              "      <td>0</td>\n",
              "      <td>0</td>\n",
              "      <td>0</td>\n",
              "      <td>1</td>\n",
              "      <td>0</td>\n",
              "      <td>1</td>\n",
              "      <td>0</td>\n",
              "      <td>0</td>\n",
              "      <td>0</td>\n",
              "      <td>1</td>\n",
              "      <td>1</td>\n",
              "      <td>1</td>\n",
              "    </tr>\n",
              "    <tr>\n",
              "      <th>995</th>\n",
              "      <td>0</td>\n",
              "      <td>0</td>\n",
              "      <td>1</td>\n",
              "      <td>0</td>\n",
              "      <td>0</td>\n",
              "      <td>1</td>\n",
              "      <td>0</td>\n",
              "      <td>0</td>\n",
              "      <td>1</td>\n",
              "      <td>0</td>\n",
              "      <td>1</td>\n",
              "      <td>0</td>\n",
              "      <td>0</td>\n",
              "      <td>0</td>\n",
              "      <td>0</td>\n",
              "      <td>1</td>\n",
              "    </tr>\n",
              "    <tr>\n",
              "      <th>996</th>\n",
              "      <td>0</td>\n",
              "      <td>0</td>\n",
              "      <td>0</td>\n",
              "      <td>1</td>\n",
              "      <td>0</td>\n",
              "      <td>1</td>\n",
              "      <td>1</td>\n",
              "      <td>1</td>\n",
              "      <td>1</td>\n",
              "      <td>0</td>\n",
              "      <td>0</td>\n",
              "      <td>1</td>\n",
              "      <td>1</td>\n",
              "      <td>1</td>\n",
              "      <td>1</td>\n",
              "      <td>1</td>\n",
              "    </tr>\n",
              "    <tr>\n",
              "      <th>997</th>\n",
              "      <td>0</td>\n",
              "      <td>0</td>\n",
              "      <td>0</td>\n",
              "      <td>0</td>\n",
              "      <td>0</td>\n",
              "      <td>1</td>\n",
              "      <td>0</td>\n",
              "      <td>0</td>\n",
              "      <td>0</td>\n",
              "      <td>1</td>\n",
              "      <td>0</td>\n",
              "      <td>0</td>\n",
              "      <td>0</td>\n",
              "      <td>0</td>\n",
              "      <td>0</td>\n",
              "      <td>0</td>\n",
              "    </tr>\n",
              "  </tbody>\n",
              "</table>\n",
              "<p>998 rows × 16 columns</p>\n",
              "</div>\n",
              "      <button class=\"colab-df-convert\" onclick=\"convertToInteractive('df-65efeac9-fadc-4777-8d4f-d924ad144886')\"\n",
              "              title=\"Convert this dataframe to an interactive table.\"\n",
              "              style=\"display:none;\">\n",
              "        \n",
              "  <svg xmlns=\"http://www.w3.org/2000/svg\" height=\"24px\"viewBox=\"0 0 24 24\"\n",
              "       width=\"24px\">\n",
              "    <path d=\"M0 0h24v24H0V0z\" fill=\"none\"/>\n",
              "    <path d=\"M18.56 5.44l.94 2.06.94-2.06 2.06-.94-2.06-.94-.94-2.06-.94 2.06-2.06.94zm-11 1L8.5 8.5l.94-2.06 2.06-.94-2.06-.94L8.5 2.5l-.94 2.06-2.06.94zm10 10l.94 2.06.94-2.06 2.06-.94-2.06-.94-.94-2.06-.94 2.06-2.06.94z\"/><path d=\"M17.41 7.96l-1.37-1.37c-.4-.4-.92-.59-1.43-.59-.52 0-1.04.2-1.43.59L10.3 9.45l-7.72 7.72c-.78.78-.78 2.05 0 2.83L4 21.41c.39.39.9.59 1.41.59.51 0 1.02-.2 1.41-.59l7.78-7.78 2.81-2.81c.8-.78.8-2.07 0-2.86zM5.41 20L4 18.59l7.72-7.72 1.47 1.35L5.41 20z\"/>\n",
              "  </svg>\n",
              "      </button>\n",
              "      \n",
              "  <style>\n",
              "    .colab-df-container {\n",
              "      display:flex;\n",
              "      flex-wrap:wrap;\n",
              "      gap: 12px;\n",
              "    }\n",
              "\n",
              "    .colab-df-convert {\n",
              "      background-color: #E8F0FE;\n",
              "      border: none;\n",
              "      border-radius: 50%;\n",
              "      cursor: pointer;\n",
              "      display: none;\n",
              "      fill: #1967D2;\n",
              "      height: 32px;\n",
              "      padding: 0 0 0 0;\n",
              "      width: 32px;\n",
              "    }\n",
              "\n",
              "    .colab-df-convert:hover {\n",
              "      background-color: #E2EBFA;\n",
              "      box-shadow: 0px 1px 2px rgba(60, 64, 67, 0.3), 0px 1px 3px 1px rgba(60, 64, 67, 0.15);\n",
              "      fill: #174EA6;\n",
              "    }\n",
              "\n",
              "    [theme=dark] .colab-df-convert {\n",
              "      background-color: #3B4455;\n",
              "      fill: #D2E3FC;\n",
              "    }\n",
              "\n",
              "    [theme=dark] .colab-df-convert:hover {\n",
              "      background-color: #434B5C;\n",
              "      box-shadow: 0px 1px 3px 1px rgba(0, 0, 0, 0.15);\n",
              "      filter: drop-shadow(0px 1px 2px rgba(0, 0, 0, 0.3));\n",
              "      fill: #FFFFFF;\n",
              "    }\n",
              "  </style>\n",
              "\n",
              "      <script>\n",
              "        const buttonEl =\n",
              "          document.querySelector('#df-65efeac9-fadc-4777-8d4f-d924ad144886 button.colab-df-convert');\n",
              "        buttonEl.style.display =\n",
              "          google.colab.kernel.accessAllowed ? 'block' : 'none';\n",
              "\n",
              "        async function convertToInteractive(key) {\n",
              "          const element = document.querySelector('#df-65efeac9-fadc-4777-8d4f-d924ad144886');\n",
              "          const dataTable =\n",
              "            await google.colab.kernel.invokeFunction('convertToInteractive',\n",
              "                                                     [key], {});\n",
              "          if (!dataTable) return;\n",
              "\n",
              "          const docLinkHtml = 'Like what you see? Visit the ' +\n",
              "            '<a target=\"_blank\" href=https://colab.research.google.com/notebooks/data_table.ipynb>data table notebook</a>'\n",
              "            + ' to learn more about interactive tables.';\n",
              "          element.innerHTML = '';\n",
              "          dataTable['output_type'] = 'display_data';\n",
              "          await google.colab.output.renderOutput(dataTable, element);\n",
              "          const docLink = document.createElement('div');\n",
              "          docLink.innerHTML = docLinkHtml;\n",
              "          element.appendChild(docLink);\n",
              "        }\n",
              "      </script>\n",
              "    </div>\n",
              "  </div>\n",
              "  "
            ]
          },
          "metadata": {},
          "execution_count": 72
        }
      ],
      "source": [
        "#ECLAT algorithm\n",
        "from pyECLAT import ECLAT\n",
        "\n",
        "# loading transactions DataFrame to ECLAT class\n",
        "eclat = ECLAT(data=Data)\n",
        "\n",
        "# DataFrame of binary values\n",
        "eclat.df_bin\n"
      ]
    },
    {
      "cell_type": "code",
      "execution_count": 73,
      "metadata": {
        "colab": {
          "base_uri": "https://localhost:8080/"
        },
        "id": "gOcge6nIfhLH",
        "outputId": "a35b82b4-8569-48b5-e809-faf9d8ccbdd6"
      },
      "outputs": [
        {
          "output_type": "execute_result",
          "data": {
            "text/plain": [
              "Unicorn         389\n",
              "Onion           403\n",
              "Apple           383\n",
              "Cheese          404\n",
              "Bread           383\n",
              "Chocolate       420\n",
              "Eggs            384\n",
              "Yogurt          419\n",
              "Sugar           408\n",
              "Milk            405\n",
              "Dill            397\n",
              "Ice cream       409\n",
              "Butter          420\n",
              "Nutmeg          401\n",
              "Kidney Beans    408\n",
              "Corn            406\n",
              "dtype: int64"
            ]
          },
          "metadata": {},
          "execution_count": 73
        }
      ],
      "source": [
        "items_total = eclat.df_bin.astype(int).sum(axis=0)\n",
        "\n",
        "items_total"
      ]
    },
    {
      "cell_type": "code",
      "execution_count": 74,
      "metadata": {
        "colab": {
          "base_uri": "https://localhost:8080/"
        },
        "id": "43L2tXVwfkAK",
        "outputId": "2ff8dc51-8dac-48aa-ece0-21b0cb2a8745"
      },
      "outputs": [
        {
          "output_type": "execute_result",
          "data": {
            "text/plain": [
              "0       1\n",
              "1       7\n",
              "2       6\n",
              "3       2\n",
              "4      10\n",
              "       ..\n",
              "993     4\n",
              "994     6\n",
              "995     5\n",
              "996    10\n",
              "997     2\n",
              "Length: 998, dtype: int64"
            ]
          },
          "metadata": {},
          "execution_count": 74
        }
      ],
      "source": [
        "# count items in each row\n",
        "items_per_transaction = eclat.df_bin.astype(int).sum(axis=1)\n",
        "\n",
        "items_per_transaction"
      ]
    },
    {
      "cell_type": "code",
      "execution_count": 75,
      "metadata": {
        "colab": {
          "base_uri": "https://localhost:8080/",
          "height": 206
        },
        "id": "TGu-mhRxfnxR",
        "outputId": "d999ee3d-556e-4ff5-b9f9-8c1485e4c129"
      },
      "outputs": [
        {
          "output_type": "execute_result",
          "data": {
            "text/plain": [
              "        items  transactions\n",
              "5   Chocolate           420\n",
              "12     Butter           420\n",
              "7      Yogurt           419\n",
              "11  Ice cream           409\n",
              "8       Sugar           408"
            ],
            "text/html": [
              "\n",
              "  <div id=\"df-8fe69e91-ca91-4f9d-910f-ec80eeeaba1d\">\n",
              "    <div class=\"colab-df-container\">\n",
              "      <div>\n",
              "<style scoped>\n",
              "    .dataframe tbody tr th:only-of-type {\n",
              "        vertical-align: middle;\n",
              "    }\n",
              "\n",
              "    .dataframe tbody tr th {\n",
              "        vertical-align: top;\n",
              "    }\n",
              "\n",
              "    .dataframe thead th {\n",
              "        text-align: right;\n",
              "    }\n",
              "</style>\n",
              "<table border=\"1\" class=\"dataframe\">\n",
              "  <thead>\n",
              "    <tr style=\"text-align: right;\">\n",
              "      <th></th>\n",
              "      <th>items</th>\n",
              "      <th>transactions</th>\n",
              "    </tr>\n",
              "  </thead>\n",
              "  <tbody>\n",
              "    <tr>\n",
              "      <th>5</th>\n",
              "      <td>Chocolate</td>\n",
              "      <td>420</td>\n",
              "    </tr>\n",
              "    <tr>\n",
              "      <th>12</th>\n",
              "      <td>Butter</td>\n",
              "      <td>420</td>\n",
              "    </tr>\n",
              "    <tr>\n",
              "      <th>7</th>\n",
              "      <td>Yogurt</td>\n",
              "      <td>419</td>\n",
              "    </tr>\n",
              "    <tr>\n",
              "      <th>11</th>\n",
              "      <td>Ice cream</td>\n",
              "      <td>409</td>\n",
              "    </tr>\n",
              "    <tr>\n",
              "      <th>8</th>\n",
              "      <td>Sugar</td>\n",
              "      <td>408</td>\n",
              "    </tr>\n",
              "  </tbody>\n",
              "</table>\n",
              "</div>\n",
              "      <button class=\"colab-df-convert\" onclick=\"convertToInteractive('df-8fe69e91-ca91-4f9d-910f-ec80eeeaba1d')\"\n",
              "              title=\"Convert this dataframe to an interactive table.\"\n",
              "              style=\"display:none;\">\n",
              "        \n",
              "  <svg xmlns=\"http://www.w3.org/2000/svg\" height=\"24px\"viewBox=\"0 0 24 24\"\n",
              "       width=\"24px\">\n",
              "    <path d=\"M0 0h24v24H0V0z\" fill=\"none\"/>\n",
              "    <path d=\"M18.56 5.44l.94 2.06.94-2.06 2.06-.94-2.06-.94-.94-2.06-.94 2.06-2.06.94zm-11 1L8.5 8.5l.94-2.06 2.06-.94-2.06-.94L8.5 2.5l-.94 2.06-2.06.94zm10 10l.94 2.06.94-2.06 2.06-.94-2.06-.94-.94-2.06-.94 2.06-2.06.94z\"/><path d=\"M17.41 7.96l-1.37-1.37c-.4-.4-.92-.59-1.43-.59-.52 0-1.04.2-1.43.59L10.3 9.45l-7.72 7.72c-.78.78-.78 2.05 0 2.83L4 21.41c.39.39.9.59 1.41.59.51 0 1.02-.2 1.41-.59l7.78-7.78 2.81-2.81c.8-.78.8-2.07 0-2.86zM5.41 20L4 18.59l7.72-7.72 1.47 1.35L5.41 20z\"/>\n",
              "  </svg>\n",
              "      </button>\n",
              "      \n",
              "  <style>\n",
              "    .colab-df-container {\n",
              "      display:flex;\n",
              "      flex-wrap:wrap;\n",
              "      gap: 12px;\n",
              "    }\n",
              "\n",
              "    .colab-df-convert {\n",
              "      background-color: #E8F0FE;\n",
              "      border: none;\n",
              "      border-radius: 50%;\n",
              "      cursor: pointer;\n",
              "      display: none;\n",
              "      fill: #1967D2;\n",
              "      height: 32px;\n",
              "      padding: 0 0 0 0;\n",
              "      width: 32px;\n",
              "    }\n",
              "\n",
              "    .colab-df-convert:hover {\n",
              "      background-color: #E2EBFA;\n",
              "      box-shadow: 0px 1px 2px rgba(60, 64, 67, 0.3), 0px 1px 3px 1px rgba(60, 64, 67, 0.15);\n",
              "      fill: #174EA6;\n",
              "    }\n",
              "\n",
              "    [theme=dark] .colab-df-convert {\n",
              "      background-color: #3B4455;\n",
              "      fill: #D2E3FC;\n",
              "    }\n",
              "\n",
              "    [theme=dark] .colab-df-convert:hover {\n",
              "      background-color: #434B5C;\n",
              "      box-shadow: 0px 1px 3px 1px rgba(0, 0, 0, 0.15);\n",
              "      filter: drop-shadow(0px 1px 2px rgba(0, 0, 0, 0.3));\n",
              "      fill: #FFFFFF;\n",
              "    }\n",
              "  </style>\n",
              "\n",
              "      <script>\n",
              "        const buttonEl =\n",
              "          document.querySelector('#df-8fe69e91-ca91-4f9d-910f-ec80eeeaba1d button.colab-df-convert');\n",
              "        buttonEl.style.display =\n",
              "          google.colab.kernel.accessAllowed ? 'block' : 'none';\n",
              "\n",
              "        async function convertToInteractive(key) {\n",
              "          const element = document.querySelector('#df-8fe69e91-ca91-4f9d-910f-ec80eeeaba1d');\n",
              "          const dataTable =\n",
              "            await google.colab.kernel.invokeFunction('convertToInteractive',\n",
              "                                                     [key], {});\n",
              "          if (!dataTable) return;\n",
              "\n",
              "          const docLinkHtml = 'Like what you see? Visit the ' +\n",
              "            '<a target=\"_blank\" href=https://colab.research.google.com/notebooks/data_table.ipynb>data table notebook</a>'\n",
              "            + ' to learn more about interactive tables.';\n",
              "          element.innerHTML = '';\n",
              "          dataTable['output_type'] = 'display_data';\n",
              "          await google.colab.output.renderOutput(dataTable, element);\n",
              "          const docLink = document.createElement('div');\n",
              "          docLink.innerHTML = docLinkHtml;\n",
              "          element.appendChild(docLink);\n",
              "        }\n",
              "      </script>\n",
              "    </div>\n",
              "  </div>\n",
              "  "
            ]
          },
          "metadata": {},
          "execution_count": 75
        }
      ],
      "source": [
        "df = pd.DataFrame({'items': items_total.index, 'transactions': items_total.values}) \n",
        "\n",
        "# cloning pandas DataFrame for visualization purpose  \n",
        "df_table = df.sort_values(\"transactions\", ascending=False)\n",
        "\n",
        "#  Top 5 most popular products/items\n",
        "df_table.head(5)"
      ]
    },
    {
      "cell_type": "code",
      "execution_count": 76,
      "metadata": {
        "colab": {
          "base_uri": "https://localhost:8080/"
        },
        "id": "6aWEg7cwhVro",
        "outputId": "1299158c-fc2a-403e-8134-f0bd9680988d"
      },
      "outputs": [
        {
          "output_type": "stream",
          "name": "stdout",
          "text": [
            "Combination 1 by 1\n"
          ]
        },
        {
          "output_type": "stream",
          "name": "stderr",
          "text": [
            "16it [00:00, 128.27it/s]\n"
          ]
        },
        {
          "output_type": "stream",
          "name": "stdout",
          "text": [
            "Combination 2 by 2\n"
          ]
        },
        {
          "output_type": "stream",
          "name": "stderr",
          "text": [
            "120it [00:00, 215.63it/s]\n"
          ]
        },
        {
          "output_type": "stream",
          "name": "stdout",
          "text": [
            "Combination 3 by 3\n"
          ]
        },
        {
          "output_type": "stream",
          "name": "stderr",
          "text": [
            "560it [00:02, 208.45it/s]\n"
          ]
        }
      ],
      "source": [
        "eclat_indices, eclat_supports = eclat.fit(min_support=0.2)"
      ]
    },
    {
      "cell_type": "code",
      "execution_count": 88,
      "metadata": {
        "colab": {
          "base_uri": "https://localhost:8080/"
        },
        "id": "5qGjYDp2i2zg",
        "outputId": "c977eb4b-21c6-4405-dd90-7296a59a088a"
      },
      "outputs": [
        {
          "output_type": "execute_result",
          "data": {
            "text/plain": [
              "22"
            ]
          },
          "metadata": {},
          "execution_count": 88
        }
      ],
      "source": [
        "len(eclat_supports)"
      ]
    },
    {
      "cell_type": "code",
      "source": [
        "print(eclat_supports)"
      ],
      "metadata": {
        "colab": {
          "base_uri": "https://localhost:8080/"
        },
        "id": "RytRP_TjHz-k",
        "outputId": "30adfcda-18fd-40aa-8236-f513aed69e34"
      },
      "execution_count": 87,
      "outputs": [
        {
          "output_type": "stream",
          "name": "stdout",
          "text": [
            "{'Unicorn': 0.3897795591182365, 'Onion': 0.40380761523046094, 'Apple': 0.3837675350701403, 'Cheese': 0.40480961923847697, 'Bread': 0.3837675350701403, 'Chocolate': 0.42084168336673344, 'Eggs': 0.3847695390781563, 'Yogurt': 0.4198396793587174, 'Sugar': 0.4088176352705411, 'Milk': 0.405811623246493, 'Dill': 0.39779559118236474, 'Ice cream': 0.40981963927855714, 'Butter': 0.42084168336673344, 'Nutmeg': 0.40180360721442887, 'Kidney Beans': 0.4088176352705411, 'Corn': 0.40681362725450904, 'Cheese & Kidney Beans': 0.20040080160320642, 'Chocolate & Milk': 0.21142284569138275, 'Chocolate & Ice cream': 0.20140280561122245, 'Chocolate & Butter': 0.20240480961923848, 'Ice cream & Butter': 0.20741482965931865, 'Butter & Kidney Beans': 0.20240480961923848}\n"
          ]
        }
      ]
    },
    {
      "cell_type": "code",
      "execution_count": 107,
      "metadata": {
        "colab": {
          "base_uri": "https://localhost:8080/"
        },
        "id": "b3NJzRp2jNj5",
        "outputId": "9aac1862-728d-42c6-ce1d-a19db3cc1f2a"
      },
      "outputs": [
        {
          "output_type": "stream",
          "name": "stdout",
          "text": [
            "100 loops, best of 10: 44.5 ns per loop\n"
          ]
        }
      ],
      "source": [
        "%timeit -n 100 -r 10 eclat_supports"
      ]
    },
    {
      "cell_type": "code",
      "execution_count": 79,
      "metadata": {
        "id": "96V-TP6WjaVH"
      },
      "outputs": [],
      "source": [
        "import pyfpgrowth"
      ]
    },
    {
      "cell_type": "code",
      "execution_count": 80,
      "metadata": {
        "colab": {
          "base_uri": "https://localhost:8080/"
        },
        "id": "l1J7hLg3pv3t",
        "outputId": "62f43999-c84a-4e47-c178-1a225db72eb7"
      },
      "outputs": [
        {
          "output_type": "execute_result",
          "data": {
            "text/plain": [
              "{('Apple',): 383,\n",
              " ('Apple', 'nan'): 3131,\n",
              " ('Bread',): 383,\n",
              " ('Bread', 'nan'): 3157,\n",
              " ('Butter',): 420,\n",
              " ('Butter', 'Chocolate'): 202,\n",
              " ('Butter', 'Chocolate', 'nan'): 1482,\n",
              " ('Butter', 'Ice cream'): 207,\n",
              " ('Butter', 'Ice cream', 'nan'): 1527,\n",
              " ('Butter', 'Kidney Beans'): 202,\n",
              " ('Butter', 'Kidney Beans', 'nan'): 1490,\n",
              " ('Butter', 'nan'): 3438,\n",
              " ('Cheese', 'Kidney Beans'): 200,\n",
              " ('Cheese', 'Kidney Beans', 'nan'): 1467,\n",
              " ('Cheese', 'nan'): 3355,\n",
              " ('Cheese', 'nan', 'nan'): 13628,\n",
              " ('Chocolate', 'Ice cream'): 201,\n",
              " ('Chocolate', 'Ice cream', 'nan'): 1475,\n",
              " ('Chocolate', 'Milk'): 211,\n",
              " ('Chocolate', 'Milk', 'nan'): 1570,\n",
              " ('Chocolate', 'nan'): 3419,\n",
              " ('Chocolate', 'nan', 'nan'): 13463,\n",
              " ('Corn',): 406,\n",
              " ('Corn', 'nan'): 3312,\n",
              " ('Dill',): 397,\n",
              " ('Dill', 'nan'): 3290,\n",
              " ('Eggs',): 384,\n",
              " ('Eggs', 'nan'): 3214,\n",
              " ('Ice cream', 'nan'): 3344,\n",
              " ('Ice cream', 'nan', 'nan'): 13253,\n",
              " ('Kidney Beans', 'nan'): 3329,\n",
              " ('Kidney Beans', 'nan', 'nan'): 13288,\n",
              " ('Milk', 'nan'): 3278,\n",
              " ('Milk', 'nan', 'nan'): 12772,\n",
              " ('Nutmeg',): 401,\n",
              " ('Nutmeg', 'nan'): 3267,\n",
              " ('Onion',): 403,\n",
              " ('Onion', 'nan'): 3276,\n",
              " ('Sugar',): 408,\n",
              " ('Sugar', 'nan'): 3335,\n",
              " ('Unicorn',): 389,\n",
              " ('Unicorn', 'nan'): 3193,\n",
              " ('Yogurt',): 419,\n",
              " ('Yogurt', 'nan'): 3455,\n",
              " ('nan',): 9529,\n",
              " ('nan', 'nan'): 45071}"
            ]
          },
          "metadata": {},
          "execution_count": 80
        }
      ],
      "source": [
        "min_support= 0.2*rows\n",
        "patterns = pyfpgrowth.find_frequent_patterns(transacts, min_support)\n",
        "patterns"
      ]
    },
    {
      "cell_type": "code",
      "execution_count": 124,
      "metadata": {
        "colab": {
          "base_uri": "https://localhost:8080/"
        },
        "id": "Z8FL2XbkkXAg",
        "outputId": "43a5aa1c-d2c4-42bc-8cf2-271cfe2da7e2"
      },
      "outputs": [
        {
          "output_type": "stream",
          "name": "stdout",
          "text": [
            "100 loops, best of 10: 43.1 ns per loop\n"
          ]
        }
      ],
      "source": [
        "%timeit -n 100 -r 10 patterns"
      ]
    },
    {
      "cell_type": "code",
      "execution_count": 82,
      "metadata": {
        "colab": {
          "base_uri": "https://localhost:8080/",
          "height": 295
        },
        "id": "mcFOwSz_yjIb",
        "outputId": "e1e3894a-d572-453a-9d9a-e35242844569"
      },
      "outputs": [
        {
          "output_type": "display_data",
          "data": {
            "text/plain": [
              "<Figure size 432x288 with 1 Axes>"
            ],
            "image/png": "[encoded data removed]"
          },
          "metadata": {
            "needs_background": "light"
          }
        }
      ],
      "source": [
        "#Runtime of datasets using different methods\n",
        "from matplotlib import pyplot as plt \n",
        "plt.title('Runtime vs Analysis method')\n",
        "plt.xlabel('Method used for analysis')\n",
        "plt.ylabel('Runtime(ns)')\n",
        "plt.plot(['apriori','fpgrowth','ecat'],[62.7,58.6,58.9],label='Dataset1') \n",
        "plt.plot(['apriori','fpgrowth','ecat'],[58.6,50.6,50.7],label='Dataset2') \n",
        "plt.plot(['apriori','fpgrowth','ecat'],[38,34.9,34.4],label='Dataset3')     \n",
        "plt.legend()\n",
        "plt.show()"
      ]
    },
    {
      "cell_type": "code",
      "execution_count": 83,
      "metadata": {
        "colab": {
          "base_uri": "https://localhost:8080/",
          "height": 295
        },
        "id": "cWnRGITPwfZk",
        "outputId": "5bb89f46-6e34-4223-b445-49d0e9087302"
      },
      "outputs": [
        {
          "output_type": "display_data",
          "data": {
            "text/plain": [
              "<Figure size 432x288 with 1 Axes>"
            ],
            "image/png": "[encoded data removed]"
          },
          "metadata": {
            "needs_background": "light"
          }
        }
      ],
      "source": [
        "#Analysis of Datasize\n",
        "from matplotlib import pyplot as plt \n",
        "plt.title('Data size vs Dataset')\n",
        "plt.xlabel('Data sets')\n",
        "plt.ylabel('Data size')\n",
        "plt.plot(['dataset1','dataset2','dataset3'],[9835,7500,200,])    \n",
        "plt.show()"
      ]
    },
    {
      "cell_type": "code",
      "execution_count": 84,
      "metadata": {
        "colab": {
          "base_uri": "https://localhost:8080/",
          "height": 295
        },
        "id": "WhE3ZyZiz71I",
        "outputId": "59e33586-cf67-4d2a-c576-4faae6c7041a"
      },
      "outputs": [
        {
          "output_type": "display_data",
          "data": {
            "text/plain": [
              "<Figure size 432x288 with 1 Axes>"
            ],
            "image/png": "[encoded data removed]"
          },
          "metadata": {
            "needs_background": "light"
          }
        }
      ],
      "source": [
        "#Total number of items in a dataset\n",
        "from matplotlib import pyplot as plt \n",
        "plt.title('Total items in dataset')\n",
        "plt.xlabel('Number of items')\n",
        "plt.ylabel('Dataset')\n",
        "plt.plot(['dataset1','dataset2','dataset3'],[9835,7500,200,],label='Total dataset size')\n",
        "plt.plot(['dataset1','dataset2','dataset3'],[2690,1510,102],label='Frequent itemset size')    \n",
        "plt.legend()\n",
        "plt.show()\n"
      ]
    }
  ],
  "metadata": {
    "colab": {
      "name": "basket_analysis.ipynb",
      "provenance": []
    },
    "kernelspec": {
      "display_name": "Python 3",
      "name": "python3"
    },
    "language_info": {
      "name": "python"
    }
  },
  "nbformat": 4,
  "nbformat_minor": 0
}